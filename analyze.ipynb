{
 "cells": [
  {
   "cell_type": "code",
   "execution_count": 1,
   "id": "feff9440",
   "metadata": {},
   "outputs": [],
   "source": [
    "from itertools import combinations\n",
    "from datetime import datetime\n",
    "import math\n",
    "\n",
    "import networkx as nx\n",
    "import pandas as pd\n",
    "import numpy as np\n",
    "from tqdm.auto import tqdm"
   ]
  },
  {
   "cell_type": "code",
   "execution_count": 2,
   "id": "2e61df67",
   "metadata": {},
   "outputs": [],
   "source": [
    "events = pd.read_pickle('data/events_anonymized.pickle')\n",
    "events['partition'] = pd.to_datetime(pd.to_datetime(events.timestamp).dt.date)"
   ]
  },
  {
   "cell_type": "code",
   "execution_count": 3,
   "id": "09f2f51d",
   "metadata": {},
   "outputs": [],
   "source": [
    "sampled_events = events[events.human & (events.timestamp >= datetime(2019, 1, 1)) & (events.timestamp < datetime(2020, 1, 1))]"
   ]
  },
  {
   "cell_type": "code",
   "execution_count": 4,
   "id": "f7cdb8ba",
   "metadata": {},
   "outputs": [
    {
     "data": {
      "text/plain": [
       "owner                     object\n",
       "repo                      object\n",
       "pull                       int64\n",
       "pr_id                     object\n",
       "user_id                   object\n",
       "timestamp         datetime64[ns]\n",
       "event                     object\n",
       "source                    object\n",
       "human                       bool\n",
       "source_is_pr                bool\n",
       "repo_full_name            object\n",
       "partition         datetime64[ns]\n",
       "dtype: object"
      ]
     },
     "execution_count": 4,
     "metadata": {},
     "output_type": "execute_result"
    }
   ],
   "source": [
    "sampled_events.dtypes"
   ]
  },
  {
   "cell_type": "code",
   "execution_count": 5,
   "id": "b17b7d48",
   "metadata": {},
   "outputs": [],
   "source": [
    "squads = pd.read_pickle('data/squads_anonymized.pickle')"
   ]
  },
  {
   "cell_type": "code",
   "execution_count": 6,
   "id": "9e28194c",
   "metadata": {},
   "outputs": [],
   "source": [
    "full_index = pd.date_range(start='2019-01-01', end='2019-12-31', freq='D')\n",
    "team_mapping = squads.groupby(['userid', 'partition']).id.unique().unstack(\n",
    "    level='userid').reindex(full_index).bfill().ffill().stack().reset_index()\n",
    "team_mapping.rename(columns={'level_0': 'partition',\n",
    "                    0: 'teams', 'userid': 'user_id'}, inplace=True)\n",
    "team_mapping.teams = team_mapping.teams.apply(tuple)"
   ]
  },
  {
   "cell_type": "code",
   "execution_count": 7,
   "id": "2e944d88",
   "metadata": {},
   "outputs": [],
   "source": [
    "code_reviews = pd.merge(sampled_events[['partition', 'user_id', 'pr_id']], team_mapping[['partition', 'user_id', 'teams']], on=['partition', 'user_id'], how='left')"
   ]
  },
  {
   "cell_type": "code",
   "execution_count": 8,
   "id": "3cd28800",
   "metadata": {},
   "outputs": [
    {
     "data": {
      "text/plain": [
       "220733"
      ]
     },
     "execution_count": 8,
     "metadata": {},
     "output_type": "execute_result"
    }
   ],
   "source": [
    "code_reviews.pr_id.nunique()"
   ]
  },
  {
   "cell_type": "code",
   "execution_count": 9,
   "id": "337a0c8a",
   "metadata": {},
   "outputs": [
    {
     "data": {
      "text/plain": [
       "2246"
      ]
     },
     "execution_count": 9,
     "metadata": {},
     "output_type": "execute_result"
    }
   ],
   "source": [
    "code_reviews.user_id.nunique()"
   ]
  },
  {
   "cell_type": "markdown",
   "id": "2625216b",
   "metadata": {},
   "source": [
    "---"
   ]
  },
  {
   "cell_type": "markdown",
   "id": "200f5ac7",
   "metadata": {},
   "source": [
    "## Social Boundaries"
   ]
  },
  {
   "cell_type": "code",
   "execution_count": 10,
   "id": "efd14eb9",
   "metadata": {},
   "outputs": [],
   "source": [
    "participants = code_reviews.groupby('pr_id').user_id.unique().apply(tuple).rename('participants')"
   ]
  },
  {
   "cell_type": "code",
   "execution_count": 11,
   "id": "cc936a71",
   "metadata": {},
   "outputs": [
    {
     "data": {
      "text/plain": [
       "participants\n",
       "1     0.248558\n",
       "2     0.571437\n",
       "3     0.143105\n",
       "4     0.028908\n",
       "5     0.006025\n",
       "6     0.001377\n",
       "7     0.000317\n",
       "8     0.000136\n",
       "9     0.000050\n",
       "10    0.000027\n",
       "11    0.000005\n",
       "12    0.000005\n",
       "13    0.000014\n",
       "14    0.000009\n",
       "15    0.000005\n",
       "17    0.000005\n",
       "18    0.000005\n",
       "23    0.000009\n",
       "27    0.000005\n",
       "Name: proportion, dtype: float64"
      ]
     },
     "execution_count": 11,
     "metadata": {},
     "output_type": "execute_result"
    }
   ],
   "source": [
    "participants.str.len().value_counts(normalize=True).sort_index()"
   ]
  },
  {
   "cell_type": "code",
   "execution_count": 12,
   "id": "99b00791",
   "metadata": {},
   "outputs": [
    {
     "data": {
      "text/plain": [
       "<Axes: xlabel='participants'>"
      ]
     },
     "execution_count": 12,
     "metadata": {},
     "output_type": "execute_result"
    },
    {
     "data": {
      "image/png": "[encoded data removed]",
      "text/plain": [
       "<Figure size 640x480 with 1 Axes>"
      ]
     },
     "metadata": {},
     "output_type": "display_data"
    }
   ],
   "source": [
    "ecdf_participants = participants.str.len().value_counts(normalize=True).sort_index().cumsum()\n",
    "ecdf_participants.to_csv('csv/ecdf_participants.csv')\n",
    "ecdf_participants.plot()"
   ]
  },
  {
   "cell_type": "code",
   "execution_count": 13,
   "id": "90786e3f",
   "metadata": {},
   "outputs": [
    {
     "data": {
      "text/plain": [
       "participants\n",
       "1     0.248558\n",
       "2     0.819995\n",
       "3     0.963100\n",
       "4     0.992008\n",
       "5     0.998034\n",
       "6     0.999411\n",
       "7     0.999728\n",
       "8     0.999864\n",
       "9     0.999914\n",
       "10    0.999941\n",
       "11    0.999946\n",
       "12    0.999950\n",
       "13    0.999964\n",
       "14    0.999973\n",
       "15    0.999977\n",
       "17    0.999982\n",
       "18    0.999986\n",
       "23    0.999995\n",
       "27    1.000000\n",
       "Name: proportion, dtype: float64"
      ]
     },
     "execution_count": 13,
     "metadata": {},
     "output_type": "execute_result"
    }
   ],
   "source": [
    "ecdf_participants"
   ]
  },
  {
   "cell_type": "code",
   "execution_count": 14,
   "id": "01085c22",
   "metadata": {},
   "outputs": [
    {
     "data": {
      "text/plain": [
       "220733"
      ]
     },
     "execution_count": 14,
     "metadata": {},
     "output_type": "execute_result"
    }
   ],
   "source": [
    "code_reviews.pr_id.nunique()"
   ]
  },
  {
   "cell_type": "code",
   "execution_count": 15,
   "id": "b16e4d3d",
   "metadata": {},
   "outputs": [],
   "source": [
    "from collections import defaultdict\n",
    "\n",
    "\n",
    "class EntityNotFound(Exception):\n",
    "    pass\n",
    "\n",
    "\n",
    "class Hypergraph:\n",
    "    def __init__(self, hedges: dict):\n",
    "        self._vertices = defaultdict(list)\n",
    "        for hedge, _vertices in hedges.items():\n",
    "            for vertex in _vertices:\n",
    "                self._vertices[vertex] += [hedge]\n",
    "        self._hedges = hedges\n",
    "\n",
    "    def vertices(self, hedge=None):\n",
    "        if hedge is None:\n",
    "            return set(self._vertices)\n",
    "        if hedge in self._hedges:\n",
    "            return set(self._hedges[hedge])\n",
    "        raise EntityNotFound(f'Unknown hyperedge {hedge}')\n",
    "\n",
    "    def hyperedges(self, vertex=None):\n",
    "        if vertex is None:\n",
    "            return set(self._hedges)\n",
    "        if vertex in self._vertices:\n",
    "            return set(self._vertices[vertex])\n",
    "        raise EntityNotFound(f'Unknown vertex {vertex}')\n",
    "\n",
    "\n",
    "def jaccard_similarity(set1: set, set2: set):\n",
    "    intersection = len(set1 & set2)\n",
    "    union = len(set1 | set2)\n",
    "    return intersection / union if union > 0 else None"
   ]
  },
  {
   "cell_type": "code",
   "execution_count": 16,
   "id": "e4cfc2f8",
   "metadata": {},
   "outputs": [],
   "source": [
    "hypergraph = Hypergraph(participants.to_dict())"
   ]
  },
  {
   "cell_type": "code",
   "execution_count": 17,
   "id": "066c1f88",
   "metadata": {},
   "outputs": [],
   "source": [
    "hedge_to_idx = {label: idx for idx, label in enumerate(hypergraph.hyperedges())}"
   ]
  },
  {
   "cell_type": "code",
   "execution_count": 18,
   "id": "5255c581",
   "metadata": {},
   "outputs": [],
   "source": [
    "num_hedges = len(hypergraph.hyperedges())"
   ]
  },
  {
   "cell_type": "code",
   "execution_count": 19,
   "id": "29d7c550",
   "metadata": {},
   "outputs": [],
   "source": [
    "size = num_hedges * (num_hedges - 1) // 2"
   ]
  },
  {
   "cell_type": "code",
   "execution_count": null,
   "id": "e5abf91c",
   "metadata": {},
   "outputs": [],
   "source": [
    "num_hedges = len(hypergraph.hyperedges())\n",
    "similarity_matrix = np.memmap(\n",
    "    'data/similarity_matrix', dtype=np.float32, mode='r', shape=(size, )) # use 'w+' if you want to compute the matrix rather than load the precomputed matrix"
   ]
  },
  {
   "cell_type": "code",
   "execution_count": 22,
   "id": "db76cd24",
   "metadata": {},
   "outputs": [
    {
     "data": {
      "text/plain": [
       "1     0.248558\n",
       "2     0.571437\n",
       "3     0.143105\n",
       "4     0.028908\n",
       "5     0.006025\n",
       "6     0.001377\n",
       "7     0.000317\n",
       "8     0.000136\n",
       "9     0.000050\n",
       "10    0.000027\n",
       "11    0.000005\n",
       "12    0.000005\n",
       "13    0.000014\n",
       "14    0.000009\n",
       "15    0.000005\n",
       "17    0.000005\n",
       "18    0.000005\n",
       "23    0.000009\n",
       "27    0.000005\n",
       "Name: proportion, dtype: float64"
      ]
     },
     "execution_count": 22,
     "metadata": {},
     "output_type": "execute_result"
    }
   ],
   "source": [
    "pd.Series([len(hypergraph.vertices(hedge)) for hedge in hypergraph.hyperedges()]).value_counts(normalize=True).sort_index()"
   ]
  },
  {
   "cell_type": "markdown",
   "id": "8c34abab",
   "metadata": {},
   "source": [
    "⚠️ Attention: The following cell is heavy work it might take some days (depending on your hardware)!"
   ]
  },
  {
   "cell_type": "code",
   "execution_count": null,
   "id": "92ffe539",
   "metadata": {},
   "outputs": [],
   "source": [
    "total_combinations = math.comb(num_hedges, 2)\n",
    "for hedge_i, hedge_j in tqdm(combinations(hypergraph.hyperedges(), 2), total=total_combinations):\n",
    "    i = hedge_to_idx[hedge_i]\n",
    "    j = hedge_to_idx[hedge_j]\n",
    "    vertices_i = hypergraph.vertices(hedge=hedge_i)\n",
    "    vertices_j = hypergraph.vertices(hedge=hedge_j)\n",
    "    sim = jaccard_similarity(vertices_i, vertices_j)\n",
    "    similarity_matrix[i, j] = sim\n",
    "    similarity_matrix[j, i] = sim"
   ]
  },
  {
   "cell_type": "code",
   "execution_count": 23,
   "id": "2794baa9",
   "metadata": {},
   "outputs": [],
   "source": [
    "counts, bins = np.histogram(similarity_matrix, bins=np.arange(0.0, 1.01, 0.01))"
   ]
  },
  {
   "cell_type": "code",
   "execution_count": 24,
   "id": "c283bcb5",
   "metadata": {},
   "outputs": [],
   "source": [
    "unique, frequency = np.unique(similarity_matrix, return_counts=True)"
   ]
  },
  {
   "cell_type": "code",
   "execution_count": 25,
   "id": "3eedbd83",
   "metadata": {},
   "outputs": [],
   "source": [
    "(pd.Series(frequency, index=unique) /\n",
    " similarity_matrix.shape[0]).cumsum().to_csv('csv/ecdf_participants.csv', float_format='%.4f', header=False)"
   ]
  },
  {
   "cell_type": "code",
   "execution_count": 26,
   "id": "47178837",
   "metadata": {},
   "outputs": [
    {
     "name": "stdout",
     "output_type": "stream",
     "text": [
      "0.000000    0.996279\n",
      "0.020408    0.996279\n",
      "0.022727    0.996279\n",
      "0.024390    0.996279\n",
      "0.025000    0.996279\n",
      "              ...   \n",
      "0.833333    0.999740\n",
      "0.857143    0.999740\n",
      "0.875000    0.999740\n",
      "0.888889    0.999740\n",
      "1.000000    1.000000\n",
      "Length: 111, dtype: float64\n"
     ]
    }
   ],
   "source": [
    "print((pd.Series(frequency, index=unique)/similarity_matrix.shape[0]).cumsum())"
   ]
  },
  {
   "cell_type": "code",
   "execution_count": 27,
   "id": "85335ed6",
   "metadata": {},
   "outputs": [
    {
     "data": {
      "text/plain": [
       "np.float64(0.0037208112830547924)"
      ]
     },
     "execution_count": 27,
     "metadata": {},
     "output_type": "execute_result"
    }
   ],
   "source": [
    "1 - (np.count_nonzero(np.isclose(similarity_matrix, 0.0, atol=1e-8)) / pd.Series(counts).sum())"
   ]
  },
  {
   "cell_type": "code",
   "execution_count": 28,
   "id": "46d36526",
   "metadata": {},
   "outputs": [
    {
     "data": {
      "text/plain": [
       "<Axes: >"
      ]
     },
     "execution_count": 28,
     "metadata": {},
     "output_type": "execute_result"
    },
    {
     "data": {
      "image/png": "[encoded data removed]",
      "text/plain": [
       "<Figure size 640x480 with 1 Axes>"
      ]
     },
     "metadata": {},
     "output_type": "display_data"
    }
   ],
   "source": [
    "bin_labels = pd.IntervalIndex.from_breaks(bins, closed='left')\n",
    "\n",
    "# Create Series\n",
    "(pd.Series(counts, index=bin_labels)/np.sum(counts)).cumsum().plot()"
   ]
  },
  {
   "cell_type": "code",
   "execution_count": 29,
   "id": "2bf00308",
   "metadata": {},
   "outputs": [],
   "source": [
    "cumulative_counts = np.cumsum(counts)\n",
    "ecdf = cumulative_counts / cumulative_counts[-1]  # normalize to [0, 1]"
   ]
  },
  {
   "cell_type": "code",
   "execution_count": null,
   "id": "a0c91a82",
   "metadata": {},
   "outputs": [],
   "source": [
    "sampled_events.groupby('pr_id').user_id.nunique().value_counts(normalize=True).sort_index().cumsum().to_csv('csv/ecdf_participants_per_code_review.csv', header=False)"
   ]
  },
  {
   "cell_type": "markdown",
   "id": "95cd1d0d",
   "metadata": {},
   "source": [
    "---"
   ]
  },
  {
   "cell_type": "markdown",
   "id": "ed05f51b",
   "metadata": {},
   "source": [
    "## Organizational Boundaries"
   ]
  },
  {
   "cell_type": "code",
   "execution_count": null,
   "id": "28b76921",
   "metadata": {},
   "outputs": [],
   "source": [
    "cc = {}\n",
    "for pr_id, group in code_reviews.groupby('pr_id'):\n",
    "    teams = group.teams.unique()\n",
    "    G = nx.Graph()\n",
    "    for team_combination in teams:\n",
    "        if not isinstance(team_combination, float):\n",
    "            for team in team_combination:\n",
    "                G.add_node(team)\n",
    "            G.add_edges_from(list(combinations(team_combination, 2)))\n",
    "    cc[pr_id] = len(list(nx.connected_components(G)))"
   ]
  },
  {
   "cell_type": "code",
   "execution_count": null,
   "id": "aee71d0b",
   "metadata": {},
   "outputs": [],
   "source": [
    "cross_org = pd.Series(cc).value_counts(normalize=True).sort_index()"
   ]
  },
  {
   "cell_type": "code",
   "execution_count": null,
   "id": "46963d8d",
   "metadata": {},
   "outputs": [],
   "source": [
    "cross_org.cumsum().plot()"
   ]
  },
  {
   "cell_type": "code",
   "execution_count": null,
   "id": "b81ed18b",
   "metadata": {},
   "outputs": [],
   "source": [
    "print(cross_org[cross_org.index > 1].sum(), cross_org[cross_org.index > 2].sum())"
   ]
  },
  {
   "cell_type": "code",
   "execution_count": null,
   "id": "a6464590",
   "metadata": {},
   "outputs": [],
   "source": [
    "cross_org.cumsum().to_csv('csv/ecdf_organizational.csv', header=False)"
   ]
  },
  {
   "cell_type": "markdown",
   "id": "5f017d93",
   "metadata": {},
   "source": [
    "---"
   ]
  },
  {
   "cell_type": "markdown",
   "id": "3819c253",
   "metadata": {},
   "source": [
    "## Architectural Boundaries"
   ]
  },
  {
   "cell_type": "code",
   "execution_count": null,
   "id": "76f3bd19",
   "metadata": {},
   "outputs": [],
   "source": [
    "links = sampled_events[sampled_events['event'] == 'cross-referenced'][['pr_id', 'source']]"
   ]
  },
  {
   "cell_type": "code",
   "execution_count": null,
   "id": "552152fd",
   "metadata": {},
   "outputs": [],
   "source": [
    "repos = events[['pr_id', 'repo_full_name']].drop_duplicates().set_index('pr_id', verify_integrity=True)"
   ]
  },
  {
   "cell_type": "code",
   "execution_count": null,
   "id": "49d20fb6",
   "metadata": {},
   "outputs": [],
   "source": [
    "df = links.merge(repos, left_on='pr_id', right_index=True, how='left').merge(\n",
    "    repos, left_on='source', right_index=True, how='left')"
   ]
  },
  {
   "cell_type": "code",
   "execution_count": null,
   "id": "e64fef3c",
   "metadata": {},
   "outputs": [],
   "source": [
    "df = df.dropna()"
   ]
  },
  {
   "cell_type": "code",
   "execution_count": null,
   "id": "095f059f",
   "metadata": {},
   "outputs": [],
   "source": [
    "df.pr_id.nunique(), df.pr_id.nunique()/sampled_events.pr_id.nunique()"
   ]
  },
  {
   "cell_type": "code",
   "execution_count": null,
   "id": "a877c6b2",
   "metadata": {},
   "outputs": [],
   "source": [
    "df.source.isin(sampled_events.pr_id.unique()).value_counts(normalize=True)"
   ]
  },
  {
   "cell_type": "code",
   "execution_count": null,
   "id": "2102af93",
   "metadata": {},
   "outputs": [],
   "source": [
    "(df.repo_full_name_x != df.repo_full_name_y).value_counts(normalize=True)"
   ]
  },
  {
   "cell_type": "code",
   "execution_count": null,
   "id": "4134c8d9",
   "metadata": {},
   "outputs": [],
   "source": [
    "df[df.repo_full_name_x == df.repo_full_name_y].repo_full_name_x.unique()"
   ]
  }
 ],
 "metadata": {
  "kernelspec": {
   "display_name": "Python 3",
   "language": "python",
   "name": "python3"
  },
  "language_info": {
   "codemirror_mode": {
    "name": "ipython",
    "version": 3
   },
   "file_extension": ".py",
   "mimetype": "text/x-python",
   "name": "python",
   "nbconvert_exporter": "python",
   "pygments_lexer": "ipython3",
   "version": "3.12.4"
  }
 },
 "nbformat": 4,
 "nbformat_minor": 5
}
