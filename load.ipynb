{
 "cells": [
  {
   "cell_type": "code",
   "execution_count": null,
   "metadata": {},
   "outputs": [],
   "source": [
    "from pathlib import Path\n",
    "import bz2\n",
    "\n",
    "import orjson\n",
    "from tqdm.auto import tqdm\n",
    "import pandas as pd"
   ]
  },
  {
   "cell_type": "code",
   "execution_count": null,
   "metadata": {},
   "outputs": [],
   "source": [
    "def load_data(file_path: Path):\n",
    "    with open(file_path, 'rb') as file_handle:\n",
    "        byte_data = bz2.decompress(file_handle.read())\n",
    "        return orjson.loads(byte_data)"
   ]
  },
  {
   "cell_type": "code",
   "execution_count": null,
   "metadata": {},
   "outputs": [],
   "source": [
    "def extract_login(data):\n",
    "    actor = data.get('actor')\n",
    "    if actor:\n",
    "        actor = actor.get('login')\n",
    "    user = data.get('user')\n",
    "    if user:\n",
    "        user = user.get('login')    \n",
    "    if user == actor:\n",
    "        return actor\n",
    "    else:\n",
    "        if user and not actor:\n",
    "            return user\n",
    "        elif not user and actor:\n",
    "            return actor\n",
    "        else:\n",
    "            raise Exception(f\"Couldn't load login from {data}\")"
   ]
  },
  {
   "cell_type": "code",
   "execution_count": null,
   "metadata": {},
   "outputs": [],
   "source": [
    "events = []\n",
    "file_endpoints = {}\n",
    "repositories = {}\n",
    "for pull_file in tqdm(list(Path('Spotify').glob('repos/*/*/pulls.json.bz2'))):\n",
    "    pull_file_path = Path(pull_file)\n",
    "    repo_owner = pull_file_path.parts[-3]\n",
    "    repo_name = pull_file_path.parts[-2]\n",
    "    for pull in load_data(pull_file_path):\n",
    "        pull_number = pull['number']\n",
    "        pull_id = str(pull['id'])\n",
    "\n",
    "        repositories[pull_id] = f'{repo_owner}/{repo_name}'\n",
    "\n",
    "        events += [(repo_owner, repo_name, pull_number, pull_id, extract_login(pull), pull['created_at'], 'created',  None)]\n",
    "\n",
    "        timeline_path = pull_file_path.parent / f'timelines/{pull[\"number\"]}.json.bz2'\n",
    "        try:\n",
    "            time_line_items = [item for item in load_data(timeline_path) if item['event'] != 'committed'] # we exclude commit events since the user data is not mapped to the GitHub datascheme\n",
    "        except FileNotFoundError:\n",
    "            time_line_items = []\n",
    "\n",
    "        for event in time_line_items:\n",
    "            event_type = event['event']\n",
    "            match event_type:\n",
    "                case 'reviewed':\n",
    "                    events += [(repo_owner, repo_name, pull_number, pull_id, extract_login(event), event['submitted_at'], event_type, None)]\n",
    "                case 'commit-commented' | 'line-commented':\n",
    "                    for comment in event['comments']:\n",
    "                        events += [(repo_owner, repo_name, pull_number, pull_id, extract_login(comment), comment['created_at'], event_type, None)]\n",
    "                        events += [(repo_owner, repo_name, pull_number, pull_id, extract_login(comment), comment['updated_at'], event_type, None)]\n",
    "                case 'created' | 'closed' | 'commented' | 'reopened':\n",
    "                    events += [(repo_owner, repo_name, pull_number, pull_id, extract_login(event), event['created_at'], event_type, None)]\n",
    "                case 'cross-referenced':\n",
    "                    referencing_issue = str(event['source']['issue']['id'])\n",
    "                    events += [(repo_owner, repo_name, pull_number, pull_id, extract_login(event), event['created_at'], event_type, referencing_issue)]\n",
    "                    break\n",
    "                case _:\n",
    "                    pass"
   ]
  },
  {
   "cell_type": "code",
   "execution_count": null,
   "metadata": {},
   "outputs": [],
   "source": [
    "humans = set(pd.read_csv('raw_data/spotifiers.csv').username)"
   ]
  },
  {
   "cell_type": "code",
   "execution_count": null,
   "metadata": {},
   "outputs": [],
   "source": [
    "events_df = pd.DataFrame(events, columns=['owner', 'repo', 'pull', 'pr_id', 'user_id', 'timestamp', 'event', 'source']).drop_duplicates()\n",
    "events_df.timestamp = pd.to_datetime(events_df.timestamp).dt.tz_localize(None)\n",
    "events_df['human'] = events_df.user_id.isin(humans)\n",
    "events_df['source_is_pr'] = events_df.source.isin(set(events_df.pr_id.unique()))"
   ]
  },
  {
   "cell_type": "code",
   "execution_count": null,
   "metadata": {},
   "outputs": [],
   "source": [
    "events_df.to_pickle('raw_data/events.pickle')"
   ]
  },
  {
   "cell_type": "code",
   "execution_count": null,
   "metadata": {},
   "outputs": [],
   "source": []
  }
 ],
 "metadata": {
  "kernelspec": {
   "display_name": "Python 3",
   "language": "python",
   "name": "python3"
  },
  "language_info": {
   "codemirror_mode": {
    "name": "ipython",
    "version": 3
   },
   "file_extension": ".py",
   "mimetype": "text/x-python",
   "name": "python",
   "nbconvert_exporter": "python",
   "pygments_lexer": "ipython3",
   "version": "3.12.4"
  }
 },
 "nbformat": 4,
 "nbformat_minor": 2
}
